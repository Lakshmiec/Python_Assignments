{
  "nbformat": 4,
  "nbformat_minor": 0,
  "metadata": {
    "colab": {
      "name": "Copy of Copy of Week 1 Part 2 Assignment.ipynb",
      "version": "0.3.2",
      "provenance": [],
      "collapsed_sections": []
    },
    "kernelspec": {
      "name": "python3",
      "display_name": "Python 3"
    }
  },
  "cells": [
    {
      "metadata": {
        "id": "RmYyrldKlBoK",
        "colab_type": "text"
      },
      "cell_type": "markdown",
      "source": [
        "# Assignment of Week 1 - Part 2\n",
        "You will have to fill out all the asnwers and send the assignment back to us.\n",
        "We will be evaluating your assignments."
      ]
    },
    {
      "metadata": {
        "id": "OuI7fZEnmFj_",
        "colab_type": "text"
      },
      "cell_type": "markdown",
      "source": [
        "1. Get familarized with the colab keyboard shortcuts. Go to Tools -> Keyboard Shortcuts to learn keyboard shortcuts. Once you have done that write the keyboard shortcuts (default) for the questions below \n",
        "\n",
        "  1. Convert to code cell\n",
        "  1. Convert to text cell\n",
        "  1. Move selected cells up\n",
        "  1. Run the focused cell\n",
        "  1. Run cell and select next cell\n",
        "  1. Save notebook\n",
        "  1. Delete cell\n",
        "  1. Interrupt execution\n",
        "  1. Insert code cell below\n",
        "  1. Undo last cell action"
      ]
    },
    {
      "metadata": {
        "id": "xDmg9wWeo95X",
        "colab_type": "code",
        "colab": {}
      },
      "cell_type": "code",
      "source": [
        "# Write your answer here\n",
        "# Do not run this cell, if you run you will get error.\n",
        "# Example \"1.1: CTRL+M Y\n",
        "1.1: CTRL+M Y\n",
        "1.2: CTRL+M M\n",
        "1.3: CTRL+M K  \n",
        "1.4: CTRL+Enter\n",
        "1.5: Shift+Enter\n",
        "1.6: Ctrl+S\n",
        "1.7: CTRL+M D\n",
        "1.8: CTRL+M I\n",
        "1.9: CTRL+M B\n",
        "1.10: CTRL+M Z"
      ],
      "execution_count": 0,
      "outputs": []
    },
    {
      "metadata": {
        "id": "6gx36Hvppd8s",
        "colab_type": "text"
      },
      "cell_type": "markdown",
      "source": [
        "2. Understand what is a variable and solve the questions below.\n",
        "\n",
        "  1. Create a variable called \"name\" and assign the string \"School of AI\"\n",
        "  1. Create two variables called \"length\" and \"breadth\", and assign integer value 5 to both of the variable using a single line."
      ]
    },
    {
      "metadata": {
        "id": "Xz2WJWsgvOqM",
        "colab_type": "code",
        "colab": {}
      },
      "cell_type": "code",
      "source": [
        "name=\"School of AI\"\n"
      ],
      "execution_count": 0,
      "outputs": []
    },
    {
      "metadata": {
        "id": "r30eTO-ivVfx",
        "colab_type": "code",
        "colab": {}
      },
      "cell_type": "code",
      "source": [
        "length=breadth=5\n"
      ],
      "execution_count": 0,
      "outputs": []
    },
    {
      "metadata": {
        "id": "9kQuPi3tvbPO",
        "colab_type": "text"
      },
      "cell_type": "markdown",
      "source": [
        "3. Understand what  is a comment and solve the questions below.\n",
        "  \n",
        "  1. Write 'WELCOME' inside a single line comment\n",
        "  1. Write the following string inside a multi line comment.\n",
        "  \n",
        "           ONE  \n",
        "           TWO   \n",
        "           THREE  \n",
        "           FOUR"
      ]
    },
    {
      "metadata": {
        "id": "PvF3zyMwyOoM",
        "colab_type": "code",
        "colab": {}
      },
      "cell_type": "code",
      "source": [
        "# WELCOME"
      ],
      "execution_count": 0,
      "outputs": []
    },
    {
      "metadata": {
        "id": "4l7qYy8CyOwz",
        "colab_type": "code",
        "colab": {}
      },
      "cell_type": "code",
      "source": [
        "'''\n",
        "ONE\n",
        "TWO\n",
        "THREE\n",
        "FOUR'''\n"
      ],
      "execution_count": 0,
      "outputs": []
    },
    {
      "metadata": {
        "id": "eaHzNQ67eQ19",
        "colab_type": "text"
      },
      "cell_type": "markdown",
      "source": [
        "4. Understand what is a expression and solve the question below\n",
        " \n",
        "  1. Create an expression using two variable 'length' and 'breadth' to find area of rectangle (length x breadth) and then assign the expression to a variable 'area'."
      ]
    },
    {
      "metadata": {
        "id": "WBmEVJiteQYb",
        "colab_type": "code",
        "colab": {}
      },
      "cell_type": "code",
      "source": [
        "length=2\n",
        "breadth=3\n",
        "area=length*breadth"
      ],
      "execution_count": 0,
      "outputs": []
    },
    {
      "metadata": {
        "id": "r1eB0OmigXCZ",
        "colab_type": "text"
      },
      "cell_type": "markdown",
      "source": [
        "5. Understand how to delete a variable from memory and solve the question below.\n",
        "\n",
        "  1. Create a vaiable called 'name' and assign it your name. Then in the next line delete the variable from the  memory.\n"
      ]
    },
    {
      "metadata": {
        "id": "nADYxWaFhclx",
        "colab_type": "code",
        "colab": {}
      },
      "cell_type": "code",
      "source": [
        "name=\"Sreelakshmi\"\n",
        "del(name)"
      ],
      "execution_count": 0,
      "outputs": []
    },
    {
      "metadata": {
        "id": "SURArtvqhzVK",
        "colab_type": "text"
      },
      "cell_type": "markdown",
      "source": [
        "6. Which will you use to enclose and store the string given below.   \n",
        "        \n",
        "     Hai !! It's Python Time\n",
        "     \n",
        "     Options :\n",
        "     \n",
        "     A) Single quotes (' ')\n",
        "     B) Double qoutes(\" \")"
      ]
    },
    {
      "metadata": {
        "id": "6EVvHbaJimg1",
        "colab_type": "code",
        "colab": {}
      },
      "cell_type": "code",
      "source": [
        "Both A and  B"
      ],
      "execution_count": 0,
      "outputs": []
    }
  ]
}